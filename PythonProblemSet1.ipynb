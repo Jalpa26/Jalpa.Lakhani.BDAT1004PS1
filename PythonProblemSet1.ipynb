{
 "cells": [
  {
   "cell_type": "markdown",
   "metadata": {},
   "source": [
    "# Question6\n",
    "You can turn a word into pig-Latin using the following two rules (simplified):\n",
    "• If the word starts with a consonant, move that letter to the end and append\n",
    "'ay'. For example, 'happy' becomes 'appyhay' and 'pencil' becomes 'encilpay'.\n",
    "• If the word starts with a vowel, simply append 'way' to the end of the word.\n",
    "For example, 'enter' becomes 'enterway' and 'other' becomes 'otherway' . For\n",
    "our purposes, there are 5 vowels: a, e, i, o, u (so we count y as a consonant).\n",
    "Write a function pig() that takes a word (i.e., a string) as input and returns its pigLatin form. Your function should still work if the input word contains upper case\n",
    "characters. Your output should always be lower case however. "
   ]
  },
  {
   "cell_type": "code",
   "execution_count": 1,
   "metadata": {},
   "outputs": [
    {
     "name": "stdout",
     "output_type": "stream",
     "text": [
      "appyhay\n",
      "enterway\n"
     ]
    }
   ],
   "source": [
    "vowels = ['a', 'e', 'i', 'o', 'u']\n",
    "\n",
    "def split(word): \n",
    "    return [char for char in word] \n",
    "\n",
    "def reArrangeWord(word, isStartingVowel):\n",
    "    word_arr = split(word)\n",
    "    newWord = \"\"\n",
    "    #if else to check starting with vowl or not\n",
    "    if isStartingVowel: \n",
    "        suffixToAdd = 'way'\n",
    "        word += suffixToAdd\n",
    "        print(word)\n",
    "    else:\n",
    "        for i in range(len(word_arr)):\n",
    "            if i!=0:\n",
    "                newWord += word_arr[i]\n",
    "        newWord += word_arr[0]  \n",
    "        suffixToAdd = 'ay'\n",
    "        newWord += suffixToAdd\n",
    "        print(newWord)\n",
    "\n",
    "def pig(word):\n",
    "    isStartingVowel = len(list(filter(word.startswith, vowels)))>0\n",
    "    reArrangeWord(word, isStartingVowel)\n",
    "\n",
    "pig('happy')\n",
    "pig('enter')"
   ]
  },
  {
   "cell_type": "markdown",
   "metadata": {},
   "source": [
    "# Question7\n",
    "File bloodtype1.txt records blood-types of patients (A, B, AB, O or OO) at a clinic.\n",
    "Write a function bldcount() that reads the file with name name and reports (i.e.,\n",
    "prints) how many patients there are in each bloodtype.\n",
    "bldcount('bloodtype.txt')\n",
    "There are 10 patients of blood type A.\n",
    "There is one patient of blood type B.\n",
    "There are 10 patients of blood type AB.\n",
    "There are 12 patients of blood type O.\n",
    "There are no patients of blood type OO"
   ]
  },
  {
   "cell_type": "code",
   "execution_count": 8,
   "metadata": {},
   "outputs": [
    {
     "name": "stdout",
     "output_type": "stream",
     "text": [
      "There are 13 patients of blood type AB\n",
      "There are 1 patients of blood type B\n",
      "There are 15 patients of blood type O\n",
      "There are 15 patients of blood type A\n"
     ]
    }
   ],
   "source": [
    "# read a file\n",
    "# https://stackoverflow.com/questions/147741/character-reading-from-file-in-python\n",
    "\n",
    "f = open(\"C:\\\\JalpaAll\\\\DataPrograming\\\\bloodtype1.txt\",\"r\")\n",
    "data = f.read()\n",
    "data = data.split(\" \")\n",
    "bloodGroupAlreadCounted = []\n",
    "for bloodGroup in data:\n",
    "    if(bloodGroup not in bloodGroupAlreadCounted):\n",
    "        print(\"There are \" + str(data.count(bloodGroup)) + \" patients of blood type \" + bloodGroup)\n",
    "        bloodGroupAlreadCounted.append(bloodGroup)"
   ]
  },
  {
   "cell_type": "markdown",
   "metadata": {},
   "source": [
    "# Question8\n",
    "Write a function curconv() that takes as input:\n",
    "1. a currency represented using a string (e.g., \n",
    "'JPY' for the Japanese Yen or\n",
    "'EUR' for the Euro)\n",
    "2. an amount\n",
    "and then converts and returns the amount in US dollars.\n",
    ">>> curconv('EUR', 100)\n",
    "122.96544\n",
    ">>> curconv('JPY', 100)\n",
    "1.241401\n",
    "The currency rates you will need are stored in file currencies.txt:\n",
    "\n",
    "AUD 1.0345157 Australian Dollar\n",
    "CHF 1.0237414 Swiss Franc\n",
    "CNY 0.1550176 Chinese Yuan\n",
    "DKK 0.1651442 Danish Krone\n",
    "EUR 1.2296544 Euro\n",
    "GBP 1.5550989 British Pound\n",
    "HKD 0.1270207 Hong Kong Dollar\n",
    "INR 0.0177643 Indian Rupee\n",
    "JPY 0.01241401 Japanese Yen\n",
    "MXN 0.0751848 Mexican Peso\n",
    "MYR 0.3145411 Malaysian Ringgit\n",
    "NOK 0.1677063 Norwegian Krone\n",
    "NZD 0.8003591 New Zealand Dollar\n",
    "PHP 0.0233234 Philippine Peso\n",
    "SEK 0.148269 Swedish Krona\n",
    "SGD 0.788871 Singapore Dollar\n",
    "THB 0.0313789 Thai Baht"
   ]
  },
  {
   "cell_type": "code",
   "execution_count": 2,
   "metadata": {},
   "outputs": [
    {
     "name": "stdout",
     "output_type": "stream",
     "text": [
      "122.96544\n",
      "1.241401\n"
     ]
    }
   ],
   "source": [
    "# txt file to dictionary conversation\n",
    "# https://stackoverflow.com/questions/4803999/how-to-convert-a-file-into-a-dictionary\n",
    "# https://stackoverflow.com/questions/7485458/python-reading-text-file\n",
    "with open('C:\\\\JalpaAll\\\\DataPrograming\\\\currencies.txt') as f:\n",
    "    #split the data\n",
    "    currencyDict = dict(x.rstrip().split(None)[:2] for x in f)\n",
    "def curconv(currency, amount):\n",
    "    if currency in currencyDict.keys():\n",
    "        value = currencyDict[currency]\n",
    "        result = float(value) * 100\n",
    "        print(result)\n",
    "curconv('EUR', 100) \n",
    "curconv('JPY', 100)"
   ]
  },
  {
   "cell_type": "markdown",
   "metadata": {},
   "source": [
    "# question9\n",
    "Each of the following will cause an exception (an error). Identify what type of\n",
    "exception each will cause.\n",
    "1.Trying to add incompatible variables, as in\n",
    "adding 6 + ‘a’\n",
    "2.Referring to the 12th item of a list that has only 10\n",
    "items\n",
    "3.Using a value that is out of range for a function’s\n",
    "input, such as calling math.sqrt(-1.0)\n",
    "4.Using an undeclared variable, such as print(x)\n",
    "when x has not been defined\n",
    "5.Trying to open a file that does not exist, such as\n",
    "mistyping the file name or looking in the wrong\n",
    "directory. "
   ]
  },
  {
   "cell_type": "markdown",
   "metadata": {},
   "source": [
    "1 --- TypeError : unsupported operand type(s) for +: 'int' and 'str'----\n",
    "2 --- IndexError: list index out of range----\n",
    "3 --- ValueError: math domain error----\n",
    "4 --- NameError: name 'x' is not defined----\n",
    "5 --- FileNotFoundError: [Errno 2] No such file or directory: 'demo.txt'----"
   ]
  },
  {
   "cell_type": "markdown",
   "metadata": {},
   "source": [
    "# Question10\n",
    "Encryption is the process of hiding the meaning of a text by substituting letters in the\n",
    "message with other letters, according to some system. If the process is successful, no\n",
    "one but the intended recipient can understand the encrypted message. Cryptanalysis\n",
    "refers to attempts to undo the encryption, even if some details of the encryption are\n",
    "unknown (for example, if an encrypted message has been intercepted). The first step\n",
    "of cryptanalysis is often to build up a table of letter frequencies in the encrypted text.\n",
    "Assume that the string letters is already defined as\n",
    "'abcdefghijklmnopqrstuvwxyz'. Write a function called frequencies()\n",
    "that takes a string as its only parameter, and returns a list of integers, showing the\n",
    "number of times each character appears in the text. Your function may ignore any\n",
    "characters that are not in letters.\n",
    ">>> frequencies('The quick red fox got bored and went home.')\n",
    "[1, 1, 1, 3, 5, 1, 1, 2, 1, 0, 1, 0, 1, 2, 4, 0, 1, 2, 0, 2,\n",
    "1, 0, 1, 1, 0, 0]\n",
    ">>> frequencies('apple')"
   ]
  },
  {
   "cell_type": "code",
   "execution_count": 6,
   "metadata": {},
   "outputs": [
    {
     "name": "stdout",
     "output_type": "stream",
     "text": [
      "[1, 1, 1, 3, 5, 1, 1, 2, 1, 0, 1, 0, 1, 2, 4, 0, 1, 2, 0, 2, 1, 0, 1, 1, 0, 0]\n",
      "[1, 0, 0, 0, 1, 0, 0, 0, 0, 0, 0, 1, 0, 0, 0, 2, 0, 0, 0, 0, 0, 0, 0, 0, 0, 0]\n"
     ]
    }
   ],
   "source": [
    "content = ['a', 'b', 'c', 'd', 'e', 'f', 'g', 'h', 'i', 'j', 'k', 'l', 'm', 'n', 'o', 'p', 'q', 'r', 's', 't', 'u', 'v', 'w', 'x', 'y', 'z']\n",
    "def split(word): \n",
    "    return [char for char in word]\n",
    "def frequencies(sentence):\n",
    "    cipherText = []\n",
    "    letterofSentence = split(''.join(sentence.split(\" \")))\n",
    "    for letter in content:\n",
    "        cipherText.append(letterofSentence.count(letter))\n",
    "    print(cipherText)    \n",
    "frequencies('The quick red fox got bored and went home.')\n",
    "frequencies('apple')"
   ]
  },
  {
   "cell_type": "code",
   "execution_count": null,
   "metadata": {},
   "outputs": [],
   "source": [
    "\n"
   ]
  },
  {
   "cell_type": "code",
   "execution_count": null,
   "metadata": {},
   "outputs": [],
   "source": []
  }
 ],
 "metadata": {
  "kernelspec": {
   "display_name": "Python 3",
   "language": "python",
   "name": "python3"
  },
  "language_info": {
   "codemirror_mode": {
    "name": "ipython",
    "version": 3
   },
   "file_extension": ".py",
   "mimetype": "text/x-python",
   "name": "python",
   "nbconvert_exporter": "python",
   "pygments_lexer": "ipython3",
   "version": "3.8.5"
  }
 },
 "nbformat": 4,
 "nbformat_minor": 4
}
