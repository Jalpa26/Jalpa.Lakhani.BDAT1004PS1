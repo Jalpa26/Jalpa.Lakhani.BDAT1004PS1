{
 "cells": [
  {
   "cell_type": "markdown",
   "metadata": {},
   "source": [
    "# Question1\n",
    "What data type is each of the following? "
   ]
  },
  {
   "cell_type": "code",
   "execution_count": null,
   "metadata": {},
   "outputs": [],
   "source": [
    "|  Exprssion   |     Result           |     DataTyes\n",
    "----------------------------------------------------------------\n",
    "|      5          |                      |     integer\n",
    "|     5.0         |                      |     float\n",
    "|    5 > 1        |      True            |     boolean\n",
    "|     '5'         |                      |     Character\n",
    "|   5 * 2         |       10             |     Arithmtic operator with integer datatypes\n",
    "|  '5' * 2        |      '55'            |     String with arithmatic operator.Result is String.\n",
    "|  '5' + '2'      |      '52'            |     String with arithmatic operator. Result is String\n",
    "|    5 / 2        |       2.5            |     String with arithmtic operator. Result is float.\n",
    "|   5 // 2        |       2              |     String with arithmtic operator. Result is integer.\n",
    "|  [5, 2, 1]      |                      |     list\n",
    "|5 in [1, 4, 6]   |      false           |     list and result is boolean \n",
    "|Pi(the number)   |                      |     float\n"
   ]
  },
  {
   "cell_type": "markdown",
   "metadata": {},
   "source": [
    "# Question2\n",
    "Write (and evaluate) C# expressions that answer these questions:\n",
    "a. How many letters are there in 'Supercalifragilisticexpialidocious'?\n",
    "b. Does 'Supercalifragilisticexpialidocious' contain 'ice' as a substring?\n",
    "c. Which of the following words is the longest:\n",
    "Supercalifragilisticexpialidocious, Honorificabilitudinitatibus, or\n",
    "Bababadalgharaghtakamminarronnkonn?\n",
    "d. Which composer comes first in the dictionary: 'Berlioz', 'Borodin', 'Brian',\n",
    "'Bartok', 'Bellini', 'Buxtehude', 'Bernstein'. Which one comes last?"
   ]
  },
  {
   "cell_type": "code",
   "execution_count": 12,
   "metadata": {},
   "outputs": [
    {
     "name": "stdout",
     "output_type": "stream",
     "text": [
      "1. 34\n",
      "2. True\n",
      "3. Bababadalgharaghtakamminarronnkonn is the longest\n",
      "4. Bartok is the fisrt element in dictionary And Buxtehude is the last element in dictionary\n"
     ]
    }
   ],
   "source": [
    "String inputText =\"Supercalifragilisticexpialidocious\";\n",
    "Console.WriteLine(\"1. \"+inputText.Length);\n",
    "Console.WriteLine(\"2. \"+inputText.Contains(\"ice\"));\n",
    "String str1 = \"Supercalifragilisticexpialidocious\";\n",
    "String str2 = \"Honorificabilitudinitatibus\";\n",
    "String str3 = \"Bababadalgharaghtakamminarronnkonn\";\n",
    "\n",
    "//nested if-else \n",
    "if (str1.Length > str2.Length)\n",
    "                   {\n",
    "                        if (str1.Length>str3.Length)\n",
    "                        {\n",
    "                              Console.WriteLine(\"3. \"+\"{0} is the longest\", str1);\n",
    "                        }\n",
    "                        else\n",
    "                        {\n",
    "                               Console.WriteLine(\"3. \"+\"{0} is the longest\", str3);\n",
    "                        }\n",
    "                   }\n",
    "                   else\n",
    "                   {\n",
    "                        if (str2.Length>str3.Length)\n",
    "                        {\n",
    "                              Console.WriteLine(\"3. \"+\"{0} is the longest\", str2);\n",
    "                        }\n",
    "                        else\n",
    "                       {\n",
    "                              Console.WriteLine(\"3. \"+\"{0} is the longest\", str3);\n",
    "                       }\n",
    "                   }\n",
    "        string[] dictarray = new string[]\n",
    "            {\n",
    "                \"Berlioz\",\n",
    "                \"Borodin\",\n",
    "                \"Brian\",\n",
    "                \"Bartok\",\n",
    "                \"Bellini\",\n",
    "                \"Buxtehude\",\n",
    "                \"Bernstein\"\n",
    "            };\n",
    "        Array.Sort(dictarray);\n",
    "        Console.Write(\"4. \"+\"{0} is the fisrt element in dictionary\", dictarray[0]);\n",
    "        Console.WriteLine(\" And {0} is the last element in dictionary\", dictarray[dictarray.Length-1]);"
   ]
  },
  {
   "cell_type": "markdown",
   "metadata": {},
   "source": [
    "# Question3\n",
    "Implement function triangleArea(a,b,c) that takes as input the lengths of the 3\n",
    "sides of a triangle and returns the area of the triangle. By Heron's formula, the area\n",
    "of a triangle with side lengths a, b, and c is\n",
    "s(s - a)(s -b)(s -c)\n",
    ", where\n",
    "s = (a+b+c)/2.\n",
    ">>> triangleArea(2,2,2)\n",
    "1.7320508075688772"
   ]
  },
  {
   "cell_type": "code",
   "execution_count": 16,
   "metadata": {},
   "outputs": [
    {
     "name": "stdout",
     "output_type": "stream",
     "text": [
      "Area of tringle: 1.7320508075688772\r\n"
     ]
    }
   ],
   "source": [
    "class HeronArea\n",
    "     {\n",
    "          protected double tringleside1;\n",
    "          protected double tringleside2;\n",
    "          protected double tringleside3;\n",
    "    \n",
    "          public HeronArea(double tringleside1, double tringleside2, double tringleside3)\n",
    "          {\n",
    "               this.tringleside1 = tringleside1;\n",
    "               this.tringleside2 = tringleside2;\n",
    "               this.tringleside3 = tringleside3;\n",
    "          }\n",
    "          public double GetArea()\n",
    "          {\n",
    "                double s = (tringleside1 + tringleside2 + tringleside3) / 2.0;\n",
    "                double tringleArea = Math.Sqrt(s * (s - tringleside1) * (s - tringleside2) * (s - tringleside3));\n",
    "                return tringleArea;\n",
    "          }\n",
    "          public void Display()\n",
    "          {\n",
    "                Console.WriteLine(\"Area of tringle: {0}\", GetArea());\n",
    "          }\n",
    "     }\n",
    "     //create object of HeronArea class\n",
    "     HeronArea area = new HeronArea(2,2,2);\n",
    "     area.Display();\n",
    "    "
   ]
  },
  {
   "cell_type": "markdown",
   "metadata": {},
   "source": [
    "# Question4\n",
    "Write a program in C# Sharp to separate odd and even integers in separate arrays.\n",
    "Go to the editor\n",
    "Test Data :\n",
    "Input the number of elements to be stored in the array :5\n",
    "Input 5 elements in the array :\n",
    "element - 0 : 25\n",
    "element - 1 : 47\n",
    "element - 2 : 42\n",
    "element - 3 : 56\n",
    "element - 4 : 32\n",
    "Expected Output:\n",
    "The Even elements are:\n",
    "42 56 32\n",
    "The Odd elements are :\n",
    "25 47"
   ]
  },
  {
   "cell_type": "code",
   "execution_count": 8,
   "metadata": {},
   "outputs": [
    {
     "name": "stdout",
     "output_type": "stream",
     "text": [
      "Below is Even Numbers\n",
      "42\n",
      "56\n",
      "32\n",
      "Below is Odd Numbers\n",
      "25\n",
      "47\n"
     ]
    }
   ],
   "source": [
    "int[] arr = new int[5];        \n",
    "        arr[0] = 25;\n",
    "        arr[1] = 47;\n",
    "        arr[2] = 42;\n",
    "        arr[3] = 56;\n",
    "        arr[4] = 32;\n",
    "      \n",
    "         int[] arrEven = new int[5];\n",
    "         int[] arrOdd = new int[5];\n",
    "         int j = 0, k = 0; \n",
    "         //loop iteration from arr\n",
    "         for (int i = 0; i < 5; i++) {\n",
    "            if (arr[i] % 2 == 0) {\n",
    "               arrEven[j] = arr[i];\n",
    "               j++;\n",
    "            } else {\n",
    "               arrOdd[k] = arr[i];\n",
    "               k++;\n",
    "            }\n",
    "         }\n",
    "         Console.WriteLine(\"Below is Even Numbers :\");\n",
    "        //Store it in arrEven\n",
    "         for (int i = 0; i < j; i++) {\n",
    "            Console.WriteLine(arrEven[i]);\n",
    "         }\n",
    "         Console.WriteLine(\"Below is Odd Numbers :\");\n",
    "        //strore it in arrOdd\n",
    "         for (int i = 0; i < k; i++) {\n",
    "            Console.WriteLine(arrOdd[i]);\n",
    "         }\n",
    "     "
   ]
  },
  {
   "cell_type": "markdown",
   "metadata": {},
   "source": [
    "# Question5\n",
    "a. Write a function inside(x,y,x1,y1,x2,y2) that returns True or False\n",
    "depending on whether the point (x,y) lies in the rectangle with lower left\n",
    "corner (x1,y1) and upper right corner (x2,y2).\n",
    ">>> inside(1,1,0,0,2,3)\n",
    "True\n",
    ">>> inside(-1,-1,0,0,2,3)\n",
    "False\n",
    "b. Use function inside() from part a. to write an expression that tests whether\n",
    "the point (1,1) lies in both of the following rectangles: one with lower left\n",
    "corner (0.3, 0.5) and upper right corner (1.1, 0.7) and the other with lower\n",
    "left corner (0.5, 0.2) and upper right corner (1.1, 2). "
   ]
  },
  {
   "cell_type": "code",
   "execution_count": 2,
   "metadata": {},
   "outputs": [
    {
     "name": "stdout",
     "output_type": "stream",
     "text": [
      "output of A:\n",
      "True\n",
      "False\n",
      "output of B:\n",
      "False\n"
     ]
    }
   ],
   "source": [
    "class Rectangle\n",
    "     {\n",
    "     \n",
    "          public void inside(double xPoint,double yPoint,double x1Point ,double y1Point,double x2Point,double y2Point)\n",
    "          {\n",
    "                //check the point is on rectangle or not\n",
    "               if (xPoint > x1Point && xPoint < x2Point && yPoint > y1Point && yPoint < y2Point) {\n",
    "                 Console.WriteLine(\"True\");\n",
    "               }\n",
    "               else{\n",
    "                  Console.WriteLine(\"False\");\n",
    "               }     \n",
    "          }\n",
    "     }\n",
    "     //Create Object\n",
    "     Rectangle ispoint = new Rectangle();\n",
    "     \n",
    "     //calling the method\n",
    "    Console.WriteLine(\"Output of A:\");\n",
    "     ispoint.inside(1,1,0,0,2,3);\n",
    "     ispoint.inside(-1,-1,0,0,2,3);\n",
    "     Console.WriteLine(\"Output of B:\");\n",
    "     ispoint.inside(1,1,0.5,0.5,1.1,0.7); //find this point by given intersection of points"
   ]
  },
  {
   "cell_type": "code",
   "execution_count": null,
   "metadata": {},
   "outputs": [],
   "source": []
  }
 ],
 "metadata": {
  "kernelspec": {
   "display_name": ".NET (C#)",
   "language": "C#",
   "name": ".net-csharp"
  },
  "language_info": {
   "file_extension": ".cs",
   "mimetype": "text/x-csharp",
   "name": "C#",
   "pygments_lexer": "csharp",
   "version": "8.0"
  }
 },
 "nbformat": 4,
 "nbformat_minor": 4
}
